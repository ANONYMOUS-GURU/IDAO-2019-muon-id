{
 "cells": [
  {
   "cell_type": "code",
   "execution_count": 1,
   "metadata": {},
   "outputs": [],
   "source": [
    "import xgboost\n",
    "import pandas as pd\n",
    "import os\n",
    "import utils"
   ]
  },
  {
   "cell_type": "code",
   "execution_count": 2,
   "metadata": {},
   "outputs": [],
   "source": [
    "FEATURE_COLUMNS = ['ncl[0]', 'ncl[1]', 'ncl[2]', 'ncl[3]', 'avg_cs[0]',\n",
    "       'avg_cs[1]', 'avg_cs[2]', 'avg_cs[3]', 'ndof', 'MatchedHit_TYPE[0]',\n",
    "       'MatchedHit_TYPE[1]', 'MatchedHit_TYPE[2]', 'MatchedHit_TYPE[3]',\n",
    "       'MatchedHit_X[0]', 'MatchedHit_X[1]', 'MatchedHit_X[2]',\n",
    "       'MatchedHit_X[3]', 'MatchedHit_Y[0]', 'MatchedHit_Y[1]',\n",
    "       'MatchedHit_Y[2]', 'MatchedHit_Y[3]', 'MatchedHit_Z[0]',\n",
    "       'MatchedHit_Z[1]', 'MatchedHit_Z[2]', 'MatchedHit_Z[3]',\n",
    "       'MatchedHit_DX[0]', 'MatchedHit_DX[1]', 'MatchedHit_DX[2]',\n",
    "       'MatchedHit_DX[3]', 'MatchedHit_DY[0]', 'MatchedHit_DY[1]',\n",
    "       'MatchedHit_DY[2]', 'MatchedHit_DY[3]', 'MatchedHit_DZ[0]',\n",
    "       'MatchedHit_DZ[1]', 'MatchedHit_DZ[2]', 'MatchedHit_DZ[3]',\n",
    "       'MatchedHit_T[0]', 'MatchedHit_T[1]', 'MatchedHit_T[2]',\n",
    "       'MatchedHit_T[3]', 'MatchedHit_DT[0]', 'MatchedHit_DT[1]',\n",
    "       'MatchedHit_DT[2]', 'MatchedHit_DT[3]', 'Lextra_X[0]', 'Lextra_X[1]',\n",
    "       'Lextra_X[2]', 'Lextra_X[3]', 'Lextra_Y[0]', 'Lextra_Y[1]',\n",
    "       'Lextra_Y[2]', 'Lextra_Y[3]', 'NShared', 'Mextra_DX2[0]',\n",
    "       'Mextra_DX2[1]', 'Mextra_DX2[2]', 'Mextra_DX2[3]', 'Mextra_DY2[0]',\n",
    "       'Mextra_DY2[1]', 'Mextra_DY2[2]', 'Mextra_DY2[3]', 'FOI_hits_N']"
   ]
  },
  {
   "cell_type": "code",
   "execution_count": 3,
   "metadata": {},
   "outputs": [],
   "source": [
    "DATA_PATH = \"../MuID_Run_III/extractor\""
   ]
  },
  {
   "cell_type": "markdown",
   "metadata": {},
   "source": [
    "Reading data takes around 5 minutes. We need to find a better format for the variable-length arrays in FOI*. Possibiities:\n",
    "1. `pandas.to_hdf` failed with something related to too high number of entries\n",
    "2. `pandas.to_picke` is possible, but also slow and platform-dependent\n",
    "3. CERN ROOT should do the job, but will be unfamiliar to participants"
   ]
  },
  {
   "cell_type": "code",
   "execution_count": 4,
   "metadata": {},
   "outputs": [],
   "source": [
    "train = pd.read_csv(os.path.join(DATA_PATH, \"train.csv.gz\"), usecols=FEATURE_COLUMNS+[\"label\", \"weight\"])"
   ]
  },
  {
   "cell_type": "code",
   "execution_count": 5,
   "metadata": {},
   "outputs": [],
   "source": [
    "test = pd.read_csv(os.path.join(DATA_PATH, \"test_public.csv.gz\"), usecols=FEATURE_COLUMNS+[\"label\", \"weight\"])"
   ]
  },
  {
   "cell_type": "code",
   "execution_count": 6,
   "metadata": {},
   "outputs": [
    {
     "data": {
      "text/html": [
       "<div>\n",
       "<style scoped>\n",
       "    .dataframe tbody tr th:only-of-type {\n",
       "        vertical-align: middle;\n",
       "    }\n",
       "\n",
       "    .dataframe tbody tr th {\n",
       "        vertical-align: top;\n",
       "    }\n",
       "\n",
       "    .dataframe thead th {\n",
       "        text-align: right;\n",
       "    }\n",
       "</style>\n",
       "<table border=\"1\" class=\"dataframe\">\n",
       "  <thead>\n",
       "    <tr style=\"text-align: right;\">\n",
       "      <th></th>\n",
       "      <th>ncl[0]</th>\n",
       "      <th>ncl[1]</th>\n",
       "      <th>ncl[2]</th>\n",
       "      <th>ncl[3]</th>\n",
       "      <th>avg_cs[0]</th>\n",
       "      <th>avg_cs[1]</th>\n",
       "      <th>avg_cs[2]</th>\n",
       "      <th>avg_cs[3]</th>\n",
       "      <th>ndof</th>\n",
       "      <th>MatchedHit_TYPE[0]</th>\n",
       "      <th>...</th>\n",
       "      <th>Mextra_DX2[1]</th>\n",
       "      <th>Mextra_DX2[2]</th>\n",
       "      <th>Mextra_DX2[3]</th>\n",
       "      <th>Mextra_DY2[0]</th>\n",
       "      <th>Mextra_DY2[1]</th>\n",
       "      <th>Mextra_DY2[2]</th>\n",
       "      <th>Mextra_DY2[3]</th>\n",
       "      <th>FOI_hits_N</th>\n",
       "      <th>weight</th>\n",
       "      <th>label</th>\n",
       "    </tr>\n",
       "  </thead>\n",
       "  <tbody>\n",
       "    <tr>\n",
       "      <th>0</th>\n",
       "      <td>25.0</td>\n",
       "      <td>8.0</td>\n",
       "      <td>7.0</td>\n",
       "      <td>14.0</td>\n",
       "      <td>1.400000</td>\n",
       "      <td>1.25</td>\n",
       "      <td>1.142857</td>\n",
       "      <td>1.571428</td>\n",
       "      <td>8</td>\n",
       "      <td>2.0</td>\n",
       "      <td>...</td>\n",
       "      <td>5029.51800</td>\n",
       "      <td>11995.114000</td>\n",
       "      <td>24673.143000</td>\n",
       "      <td>1660.900300</td>\n",
       "      <td>4950.33940</td>\n",
       "      <td>11806.284000</td>\n",
       "      <td>24284.73800</td>\n",
       "      <td>5</td>\n",
       "      <td>0.145543</td>\n",
       "      <td>1</td>\n",
       "    </tr>\n",
       "    <tr>\n",
       "      <th>1</th>\n",
       "      <td>27.0</td>\n",
       "      <td>5.0</td>\n",
       "      <td>5.0</td>\n",
       "      <td>8.0</td>\n",
       "      <td>2.148148</td>\n",
       "      <td>1.00</td>\n",
       "      <td>1.800000</td>\n",
       "      <td>1.250000</td>\n",
       "      <td>8</td>\n",
       "      <td>2.0</td>\n",
       "      <td>...</td>\n",
       "      <td>222.80173</td>\n",
       "      <td>495.795560</td>\n",
       "      <td>951.458800</td>\n",
       "      <td>75.818436</td>\n",
       "      <td>216.88867</td>\n",
       "      <td>482.637200</td>\n",
       "      <td>926.20703</td>\n",
       "      <td>4</td>\n",
       "      <td>-0.571444</td>\n",
       "      <td>1</td>\n",
       "    </tr>\n",
       "    <tr>\n",
       "      <th>2</th>\n",
       "      <td>22.0</td>\n",
       "      <td>5.0</td>\n",
       "      <td>2.0</td>\n",
       "      <td>18.0</td>\n",
       "      <td>2.636364</td>\n",
       "      <td>3.20</td>\n",
       "      <td>1.000000</td>\n",
       "      <td>1.500000</td>\n",
       "      <td>8</td>\n",
       "      <td>1.0</td>\n",
       "      <td>...</td>\n",
       "      <td>1135.89450</td>\n",
       "      <td>2581.801500</td>\n",
       "      <td>5005.966000</td>\n",
       "      <td>379.302550</td>\n",
       "      <td>1135.37180</td>\n",
       "      <td>2580.613000</td>\n",
       "      <td>5003.66100</td>\n",
       "      <td>9</td>\n",
       "      <td>0.217224</td>\n",
       "      <td>0</td>\n",
       "    </tr>\n",
       "    <tr>\n",
       "      <th>3</th>\n",
       "      <td>25.0</td>\n",
       "      <td>15.0</td>\n",
       "      <td>5.0</td>\n",
       "      <td>4.0</td>\n",
       "      <td>2.040000</td>\n",
       "      <td>1.80</td>\n",
       "      <td>1.800000</td>\n",
       "      <td>1.000000</td>\n",
       "      <td>8</td>\n",
       "      <td>2.0</td>\n",
       "      <td>...</td>\n",
       "      <td>8.44056</td>\n",
       "      <td>18.501749</td>\n",
       "      <td>34.737015</td>\n",
       "      <td>2.933072</td>\n",
       "      <td>8.46011</td>\n",
       "      <td>18.544601</td>\n",
       "      <td>34.81747</td>\n",
       "      <td>6</td>\n",
       "      <td>0.146734</td>\n",
       "      <td>1</td>\n",
       "    </tr>\n",
       "    <tr>\n",
       "      <th>4</th>\n",
       "      <td>23.0</td>\n",
       "      <td>4.0</td>\n",
       "      <td>9.0</td>\n",
       "      <td>10.0</td>\n",
       "      <td>1.695652</td>\n",
       "      <td>1.00</td>\n",
       "      <td>1.000000</td>\n",
       "      <td>1.200000</td>\n",
       "      <td>8</td>\n",
       "      <td>2.0</td>\n",
       "      <td>...</td>\n",
       "      <td>32.87032</td>\n",
       "      <td>73.181076</td>\n",
       "      <td>139.680020</td>\n",
       "      <td>11.306026</td>\n",
       "      <td>32.76765</td>\n",
       "      <td>72.952500</td>\n",
       "      <td>139.24373</td>\n",
       "      <td>4</td>\n",
       "      <td>0.147967</td>\n",
       "      <td>1</td>\n",
       "    </tr>\n",
       "  </tbody>\n",
       "</table>\n",
       "<p>5 rows × 65 columns</p>\n",
       "</div>"
      ],
      "text/plain": [
       "   ncl[0]  ncl[1]  ncl[2]  ncl[3]  avg_cs[0]  avg_cs[1]  avg_cs[2]  avg_cs[3]  \\\n",
       "0    25.0     8.0     7.0    14.0   1.400000       1.25   1.142857   1.571428   \n",
       "1    27.0     5.0     5.0     8.0   2.148148       1.00   1.800000   1.250000   \n",
       "2    22.0     5.0     2.0    18.0   2.636364       3.20   1.000000   1.500000   \n",
       "3    25.0    15.0     5.0     4.0   2.040000       1.80   1.800000   1.000000   \n",
       "4    23.0     4.0     9.0    10.0   1.695652       1.00   1.000000   1.200000   \n",
       "\n",
       "   ndof  MatchedHit_TYPE[0]  ...    Mextra_DX2[1]  Mextra_DX2[2]  \\\n",
       "0     8                 2.0  ...       5029.51800   11995.114000   \n",
       "1     8                 2.0  ...        222.80173     495.795560   \n",
       "2     8                 1.0  ...       1135.89450    2581.801500   \n",
       "3     8                 2.0  ...          8.44056      18.501749   \n",
       "4     8                 2.0  ...         32.87032      73.181076   \n",
       "\n",
       "   Mextra_DX2[3]  Mextra_DY2[0]  Mextra_DY2[1]  Mextra_DY2[2]  Mextra_DY2[3]  \\\n",
       "0   24673.143000    1660.900300     4950.33940   11806.284000    24284.73800   \n",
       "1     951.458800      75.818436      216.88867     482.637200      926.20703   \n",
       "2    5005.966000     379.302550     1135.37180    2580.613000     5003.66100   \n",
       "3      34.737015       2.933072        8.46011      18.544601       34.81747   \n",
       "4     139.680020      11.306026       32.76765      72.952500      139.24373   \n",
       "\n",
       "   FOI_hits_N    weight  label  \n",
       "0           5  0.145543      1  \n",
       "1           4 -0.571444      1  \n",
       "2           9  0.217224      0  \n",
       "3           6  0.146734      1  \n",
       "4           4  0.147967      1  \n",
       "\n",
       "[5 rows x 65 columns]"
      ]
     },
     "execution_count": 6,
     "metadata": {},
     "output_type": "execute_result"
    }
   ],
   "source": [
    "train.head()"
   ]
  },
  {
   "cell_type": "code",
   "execution_count": 7,
   "metadata": {},
   "outputs": [
    {
     "data": {
      "text/plain": [
       "Index(['ncl[0]', 'ncl[1]', 'ncl[2]', 'ncl[3]', 'avg_cs[0]', 'avg_cs[1]',\n",
       "       'avg_cs[2]', 'avg_cs[3]', 'ndof', 'MatchedHit_TYPE[0]',\n",
       "       'MatchedHit_TYPE[1]', 'MatchedHit_TYPE[2]', 'MatchedHit_TYPE[3]',\n",
       "       'MatchedHit_X[0]', 'MatchedHit_X[1]', 'MatchedHit_X[2]',\n",
       "       'MatchedHit_X[3]', 'MatchedHit_Y[0]', 'MatchedHit_Y[1]',\n",
       "       'MatchedHit_Y[2]', 'MatchedHit_Y[3]', 'MatchedHit_Z[0]',\n",
       "       'MatchedHit_Z[1]', 'MatchedHit_Z[2]', 'MatchedHit_Z[3]',\n",
       "       'MatchedHit_DX[0]', 'MatchedHit_DX[1]', 'MatchedHit_DX[2]',\n",
       "       'MatchedHit_DX[3]', 'MatchedHit_DY[0]', 'MatchedHit_DY[1]',\n",
       "       'MatchedHit_DY[2]', 'MatchedHit_DY[3]', 'MatchedHit_DZ[0]',\n",
       "       'MatchedHit_DZ[1]', 'MatchedHit_DZ[2]', 'MatchedHit_DZ[3]',\n",
       "       'MatchedHit_T[0]', 'MatchedHit_T[1]', 'MatchedHit_T[2]',\n",
       "       'MatchedHit_T[3]', 'MatchedHit_DT[0]', 'MatchedHit_DT[1]',\n",
       "       'MatchedHit_DT[2]', 'MatchedHit_DT[3]', 'Lextra_X[0]', 'Lextra_X[1]',\n",
       "       'Lextra_X[2]', 'Lextra_X[3]', 'Lextra_Y[0]', 'Lextra_Y[1]',\n",
       "       'Lextra_Y[2]', 'Lextra_Y[3]', 'NShared', 'Mextra_DX2[0]',\n",
       "       'Mextra_DX2[1]', 'Mextra_DX2[2]', 'Mextra_DX2[3]', 'Mextra_DY2[0]',\n",
       "       'Mextra_DY2[1]', 'Mextra_DY2[2]', 'Mextra_DY2[3]', 'FOI_hits_N',\n",
       "       'weight', 'label'],\n",
       "      dtype='object')"
      ]
     },
     "execution_count": 7,
     "metadata": {},
     "output_type": "execute_result"
    }
   ],
   "source": [
    "train.columns"
   ]
  },
  {
   "cell_type": "code",
   "execution_count": 8,
   "metadata": {},
   "outputs": [
    {
     "data": {
      "text/plain": [
       "(12506207, 65)"
      ]
     },
     "execution_count": 8,
     "metadata": {},
     "output_type": "execute_result"
    }
   ],
   "source": [
    "train.shape"
   ]
  },
  {
   "cell_type": "code",
   "execution_count": 9,
   "metadata": {},
   "outputs": [],
   "source": [
    "N_TRAIN = int(1e5)"
   ]
  },
  {
   "cell_type": "code",
   "execution_count": 10,
   "metadata": {},
   "outputs": [],
   "source": [
    "model = xgboost.XGBClassifier(n_jobs=-1)"
   ]
  },
  {
   "cell_type": "code",
   "execution_count": 11,
   "metadata": {},
   "outputs": [
    {
     "data": {
      "text/plain": [
       "XGBClassifier(base_score=0.5, booster='gbtree', colsample_bylevel=1,\n",
       "       colsample_bytree=1, gamma=0, learning_rate=0.1, max_delta_step=0,\n",
       "       max_depth=3, min_child_weight=1, missing=None, n_estimators=100,\n",
       "       n_jobs=-1, nthread=None, objective='binary:logistic',\n",
       "       random_state=0, reg_alpha=0, reg_lambda=1, scale_pos_weight=1,\n",
       "       seed=None, silent=True, subsample=1)"
      ]
     },
     "execution_count": 11,
     "metadata": {},
     "output_type": "execute_result"
    }
   ],
   "source": [
    "model.fit(train.loc[:N_TRAIN, FEATURE_COLUMNS].values,\n",
    "          train.label.loc[:N_TRAIN],\n",
    "          sample_weight=train.weight.loc[:N_TRAIN])"
   ]
  },
  {
   "cell_type": "code",
   "execution_count": 14,
   "metadata": {},
   "outputs": [
    {
     "data": {
      "text/plain": [
       "0.7123954124904115"
      ]
     },
     "execution_count": 14,
     "metadata": {},
     "output_type": "execute_result"
    }
   ],
   "source": [
    "utils.rejection90_sklearn(model, test[FEATURE_COLUMNS].values, test.label.values, test.weight.values)"
   ]
  },
  {
   "cell_type": "code",
   "execution_count": 15,
   "metadata": {},
   "outputs": [],
   "source": [
    "model_no_weights = xgboost.XGBClassifier(n_jobs=-1).fit(\n",
    "    train.loc[:N_TRAIN, FEATURE_COLUMNS].values, train.label.loc[:N_TRAIN])"
   ]
  },
  {
   "cell_type": "code",
   "execution_count": 16,
   "metadata": {},
   "outputs": [
    {
     "data": {
      "text/plain": [
       "0.7170516795218463"
      ]
     },
     "execution_count": 16,
     "metadata": {},
     "output_type": "execute_result"
    }
   ],
   "source": [
    "utils.rejection90_sklearn(model_no_weights, test.loc[:, FEATURE_COLUMNS].values,\n",
    "                          test.label.values, test.weight.values)"
   ]
  }
 ],
 "metadata": {
  "kernelspec": {
   "display_name": "Python 3",
   "language": "python",
   "name": "python3"
  },
  "language_info": {
   "codemirror_mode": {
    "name": "ipython",
    "version": 3
   },
   "file_extension": ".py",
   "mimetype": "text/x-python",
   "name": "python",
   "nbconvert_exporter": "python",
   "pygments_lexer": "ipython3",
   "version": "3.6.6"
  }
 },
 "nbformat": 4,
 "nbformat_minor": 2
}
