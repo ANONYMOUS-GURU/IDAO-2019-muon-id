{
 "cells": [
  {
   "cell_type": "code",
   "execution_count": 3,
   "metadata": {},
   "outputs": [],
   "source": [
    "import xgboost\n",
    "import pandas as pd\n",
    "import os\n",
    "import utils"
   ]
  },
  {
   "cell_type": "code",
   "execution_count": 12,
   "metadata": {},
   "outputs": [],
   "source": [
    "FEATURE_COLUMNS = ['ncl[0]', 'ncl[1]', 'ncl[2]', 'ncl[3]', 'avg_cs[0]',\n",
    "       'avg_cs[1]', 'avg_cs[2]', 'avg_cs[3]', 'ndof', 'MatchedHit_TYPE[0]',\n",
    "       'MatchedHit_TYPE[1]', 'MatchedHit_TYPE[2]', 'MatchedHit_TYPE[3]',\n",
    "       'MatchedHit_X[0]', 'MatchedHit_X[1]', 'MatchedHit_X[2]',\n",
    "       'MatchedHit_X[3]', 'MatchedHit_Y[0]', 'MatchedHit_Y[1]',\n",
    "       'MatchedHit_Y[2]', 'MatchedHit_Y[3]', 'MatchedHit_Z[0]',\n",
    "       'MatchedHit_Z[1]', 'MatchedHit_Z[2]', 'MatchedHit_Z[3]',\n",
    "       'MatchedHit_DX[0]', 'MatchedHit_DX[1]', 'MatchedHit_DX[2]',\n",
    "       'MatchedHit_DX[3]', 'MatchedHit_DY[0]', 'MatchedHit_DY[1]',\n",
    "       'MatchedHit_DY[2]', 'MatchedHit_DY[3]', 'MatchedHit_DZ[0]',\n",
    "       'MatchedHit_DZ[1]', 'MatchedHit_DZ[2]', 'MatchedHit_DZ[3]',\n",
    "       'MatchedHit_T[0]', 'MatchedHit_T[1]', 'MatchedHit_T[2]',\n",
    "       'MatchedHit_T[3]', 'MatchedHit_DT[0]', 'MatchedHit_DT[1]',\n",
    "       'MatchedHit_DT[2]', 'MatchedHit_DT[3]', 'Lextra_X[0]', 'Lextra_X[1]',\n",
    "       'Lextra_X[2]', 'Lextra_X[3]', 'Lextra_Y[0]', 'Lextra_Y[1]',\n",
    "       'Lextra_Y[2]', 'Lextra_Y[3]', 'NShared', 'Mextra_DX2[0]',\n",
    "       'Mextra_DX2[1]', 'Mextra_DX2[2]', 'Mextra_DX2[3]', 'Mextra_DY2[0]',\n",
    "       'Mextra_DY2[1]', 'Mextra_DY2[2]', 'Mextra_DY2[3]', 'FOI_hits_N']"
   ]
  },
  {
   "cell_type": "code",
   "execution_count": 6,
   "metadata": {},
   "outputs": [],
   "source": [
    "DATA_PATH = \"../MuID_Run_III/extractor\""
   ]
  },
  {
   "cell_type": "markdown",
   "metadata": {},
   "source": [
    "Reading data takes around 5 minutes. We need to find a better format for the variable-length arrays in FOI*. Possibiities:\n",
    "1. `pandas.to_hdf` failed with something related to too high number of entries\n",
    "2. `pandas.to_picke` is possible, but also slow and platform-dependent\n",
    "3. CERN ROOT should do the job, but will be unfamiliar to participants"
   ]
  },
  {
   "cell_type": "code",
   "execution_count": 7,
   "metadata": {},
   "outputs": [],
   "source": [
    "train = pd.read_csv(os.path.join(DATA_PATH, \"train.csv.gz\"))"
   ]
  },
  {
   "cell_type": "code",
   "execution_count": 8,
   "metadata": {},
   "outputs": [],
   "source": [
    "test = pd.read_csv(os.path.join(DATA_PATH, \"test_public.csv.gz\"))"
   ]
  },
  {
   "cell_type": "code",
   "execution_count": 9,
   "metadata": {},
   "outputs": [
    {
     "data": {
      "text/html": [
       "<div>\n",
       "<style scoped>\n",
       "    .dataframe tbody tr th:only-of-type {\n",
       "        vertical-align: middle;\n",
       "    }\n",
       "\n",
       "    .dataframe tbody tr th {\n",
       "        vertical-align: top;\n",
       "    }\n",
       "\n",
       "    .dataframe thead th {\n",
       "        text-align: right;\n",
       "    }\n",
       "</style>\n",
       "<table border=\"1\" class=\"dataframe\">\n",
       "  <thead>\n",
       "    <tr style=\"text-align: right;\">\n",
       "      <th></th>\n",
       "      <th>Index</th>\n",
       "      <th>ncl[0]</th>\n",
       "      <th>ncl[1]</th>\n",
       "      <th>ncl[2]</th>\n",
       "      <th>ncl[3]</th>\n",
       "      <th>avg_cs[0]</th>\n",
       "      <th>avg_cs[1]</th>\n",
       "      <th>avg_cs[2]</th>\n",
       "      <th>avg_cs[3]</th>\n",
       "      <th>ndof</th>\n",
       "      <th>...</th>\n",
       "      <th>FOI_hits_Y</th>\n",
       "      <th>FOI_hits_Z</th>\n",
       "      <th>FOI_hits_DX</th>\n",
       "      <th>FOI_hits_DY</th>\n",
       "      <th>FOI_hits_DZ</th>\n",
       "      <th>FOI_hits_T</th>\n",
       "      <th>FOI_hits_DT</th>\n",
       "      <th>FOI_hits_S</th>\n",
       "      <th>weight</th>\n",
       "      <th>label</th>\n",
       "    </tr>\n",
       "  </thead>\n",
       "  <tbody>\n",
       "    <tr>\n",
       "      <th>0</th>\n",
       "      <td>0</td>\n",
       "      <td>25.0</td>\n",
       "      <td>8.0</td>\n",
       "      <td>7.0</td>\n",
       "      <td>14.0</td>\n",
       "      <td>1.400000</td>\n",
       "      <td>1.25</td>\n",
       "      <td>1.142857</td>\n",
       "      <td>1.571428</td>\n",
       "      <td>8</td>\n",
       "      <td>...</td>\n",
       "      <td>[3166.4326 3430.8433 3430.8433 3678.9775 3928....</td>\n",
       "      <td>[15330.503 16619.656 16619.656 17813.35  19022...</td>\n",
       "      <td>[ 25.5  27.5  27.5 118.  126. ]</td>\n",
       "      <td>[126.27855 136.27849 136.27849 146.27841 156.2...</td>\n",
       "      <td>[33.95495  33.99096  33.99096  34.026966 34.06...</td>\n",
       "      <td>[7. 5. 1. 6. 9.]</td>\n",
       "      <td>[ 0.  3. -1.  0.  0.]</td>\n",
       "      <td>[1. 2. 2. 3. 4.]</td>\n",
       "      <td>0.145543</td>\n",
       "      <td>1</td>\n",
       "    </tr>\n",
       "    <tr>\n",
       "      <th>1</th>\n",
       "      <td>1</td>\n",
       "      <td>27.0</td>\n",
       "      <td>5.0</td>\n",
       "      <td>5.0</td>\n",
       "      <td>8.0</td>\n",
       "      <td>2.148148</td>\n",
       "      <td>1.00</td>\n",
       "      <td>1.800000</td>\n",
       "      <td>1.250000</td>\n",
       "      <td>8</td>\n",
       "      <td>...</td>\n",
       "      <td>[-318.64474 -344.5297  -369.2936  -392.42264]</td>\n",
       "      <td>[15317.953 16522.06  17714.77  18922.787]</td>\n",
       "      <td>[12.75 13.75 59.   63.  ]</td>\n",
       "      <td>[63.078957 68.078926 73.078896 78.07886 ]</td>\n",
       "      <td>[33.727364 33.74537  33.763374 33.78138 ]</td>\n",
       "      <td>[5. 6. 2. 5.]</td>\n",
       "      <td>[0. 0. 0. 0.]</td>\n",
       "      <td>[1. 2. 3. 4.]</td>\n",
       "      <td>-0.571444</td>\n",
       "      <td>1</td>\n",
       "    </tr>\n",
       "    <tr>\n",
       "      <th>2</th>\n",
       "      <td>2</td>\n",
       "      <td>22.0</td>\n",
       "      <td>5.0</td>\n",
       "      <td>2.0</td>\n",
       "      <td>18.0</td>\n",
       "      <td>2.636364</td>\n",
       "      <td>3.20</td>\n",
       "      <td>1.000000</td>\n",
       "      <td>1.500000</td>\n",
       "      <td>8</td>\n",
       "      <td>...</td>\n",
       "      <td>[ 604.1468   664.03204 -414.53174  449.50488  ...</td>\n",
       "      <td>[15405.276 15323.392 16605.809 17516.717 18724...</td>\n",
       "      <td>[76.5       76.5        3.4583333 14.833333  1...</td>\n",
       "      <td>[ 31.479162  31.479162 136.27849   18.179249  ...</td>\n",
       "      <td>[33.613575 33.613575 33.99096  33.56568  33.57...</td>\n",
       "      <td>[14.  1.  7.  7.  8.  1.  9.  3.  2.]</td>\n",
       "      <td>[14.  1.  7.  7.  8.  1. -1.  0.  0.]</td>\n",
       "      <td>[1. 1. 2. 3. 4. 4. 4. 4. 4.]</td>\n",
       "      <td>0.217224</td>\n",
       "      <td>0</td>\n",
       "    </tr>\n",
       "    <tr>\n",
       "      <th>3</th>\n",
       "      <td>3</td>\n",
       "      <td>25.0</td>\n",
       "      <td>15.0</td>\n",
       "      <td>5.0</td>\n",
       "      <td>4.0</td>\n",
       "      <td>2.040000</td>\n",
       "      <td>1.80</td>\n",
       "      <td>1.800000</td>\n",
       "      <td>1.000000</td>\n",
       "      <td>8</td>\n",
       "      <td>...</td>\n",
       "      <td>[-797.96094 -721.95514 -779.3011  -836.6777  -...</td>\n",
       "      <td>[15402.127 15117.399 16324.493 17517.887 17517...</td>\n",
       "      <td>[76.5    6.375  6.875 29.5   29.5   31.5  ]</td>\n",
       "      <td>[31.479162 31.479162 33.979145 36.47913  36.47...</td>\n",
       "      <td>[33.613575 33.613575 33.622578 33.63158  33.63...</td>\n",
       "      <td>[4. 6. 3. 9. 7. 6.]</td>\n",
       "      <td>[ 4.  2.  1.  0. -2. -1.]</td>\n",
       "      <td>[1. 1. 2. 3. 3. 4.]</td>\n",
       "      <td>0.146734</td>\n",
       "      <td>1</td>\n",
       "    </tr>\n",
       "    <tr>\n",
       "      <th>4</th>\n",
       "      <td>4</td>\n",
       "      <td>23.0</td>\n",
       "      <td>4.0</td>\n",
       "      <td>9.0</td>\n",
       "      <td>10.0</td>\n",
       "      <td>1.695652</td>\n",
       "      <td>1.00</td>\n",
       "      <td>1.000000</td>\n",
       "      <td>1.200000</td>\n",
       "      <td>8</td>\n",
       "      <td>...</td>\n",
       "      <td>[-158.9613  -171.60751 -184.28438 -197.27634]</td>\n",
       "      <td>[15203.427 16410.682 17604.236 18813.09 ]</td>\n",
       "      <td>[ 6.375  6.875 29.5   31.5  ]</td>\n",
       "      <td>[31.479162 33.979145 36.47913  38.979115]</td>\n",
       "      <td>[33.613575 33.622578 33.63158  33.640583]</td>\n",
       "      <td>[4. 5. 4. 3.]</td>\n",
       "      <td>[-2.  1.  1.  1.]</td>\n",
       "      <td>[1. 2. 3. 4.]</td>\n",
       "      <td>0.147967</td>\n",
       "      <td>1</td>\n",
       "    </tr>\n",
       "  </tbody>\n",
       "</table>\n",
       "<p>5 rows × 75 columns</p>\n",
       "</div>"
      ],
      "text/plain": [
       "   Index  ncl[0]  ncl[1]  ncl[2]  ncl[3]  avg_cs[0]  avg_cs[1]  avg_cs[2]  \\\n",
       "0      0    25.0     8.0     7.0    14.0   1.400000       1.25   1.142857   \n",
       "1      1    27.0     5.0     5.0     8.0   2.148148       1.00   1.800000   \n",
       "2      2    22.0     5.0     2.0    18.0   2.636364       3.20   1.000000   \n",
       "3      3    25.0    15.0     5.0     4.0   2.040000       1.80   1.800000   \n",
       "4      4    23.0     4.0     9.0    10.0   1.695652       1.00   1.000000   \n",
       "\n",
       "   avg_cs[3]  ndof  ...                                           FOI_hits_Y  \\\n",
       "0   1.571428     8  ...    [3166.4326 3430.8433 3430.8433 3678.9775 3928....   \n",
       "1   1.250000     8  ...        [-318.64474 -344.5297  -369.2936  -392.42264]   \n",
       "2   1.500000     8  ...    [ 604.1468   664.03204 -414.53174  449.50488  ...   \n",
       "3   1.000000     8  ...    [-797.96094 -721.95514 -779.3011  -836.6777  -...   \n",
       "4   1.200000     8  ...        [-158.9613  -171.60751 -184.28438 -197.27634]   \n",
       "\n",
       "                                          FOI_hits_Z  \\\n",
       "0  [15330.503 16619.656 16619.656 17813.35  19022...   \n",
       "1          [15317.953 16522.06  17714.77  18922.787]   \n",
       "2  [15405.276 15323.392 16605.809 17516.717 18724...   \n",
       "3  [15402.127 15117.399 16324.493 17517.887 17517...   \n",
       "4          [15203.427 16410.682 17604.236 18813.09 ]   \n",
       "\n",
       "                                         FOI_hits_DX  \\\n",
       "0                    [ 25.5  27.5  27.5 118.  126. ]   \n",
       "1                          [12.75 13.75 59.   63.  ]   \n",
       "2  [76.5       76.5        3.4583333 14.833333  1...   \n",
       "3        [76.5    6.375  6.875 29.5   29.5   31.5  ]   \n",
       "4                      [ 6.375  6.875 29.5   31.5  ]   \n",
       "\n",
       "                                         FOI_hits_DY  \\\n",
       "0  [126.27855 136.27849 136.27849 146.27841 156.2...   \n",
       "1          [63.078957 68.078926 73.078896 78.07886 ]   \n",
       "2  [ 31.479162  31.479162 136.27849   18.179249  ...   \n",
       "3  [31.479162 31.479162 33.979145 36.47913  36.47...   \n",
       "4          [31.479162 33.979145 36.47913  38.979115]   \n",
       "\n",
       "                                         FOI_hits_DZ  \\\n",
       "0  [33.95495  33.99096  33.99096  34.026966 34.06...   \n",
       "1          [33.727364 33.74537  33.763374 33.78138 ]   \n",
       "2  [33.613575 33.613575 33.99096  33.56568  33.57...   \n",
       "3  [33.613575 33.613575 33.622578 33.63158  33.63...   \n",
       "4          [33.613575 33.622578 33.63158  33.640583]   \n",
       "\n",
       "                              FOI_hits_T  \\\n",
       "0                       [7. 5. 1. 6. 9.]   \n",
       "1                          [5. 6. 2. 5.]   \n",
       "2  [14.  1.  7.  7.  8.  1.  9.  3.  2.]   \n",
       "3                    [4. 6. 3. 9. 7. 6.]   \n",
       "4                          [4. 5. 4. 3.]   \n",
       "\n",
       "                             FOI_hits_DT                    FOI_hits_S  \\\n",
       "0                  [ 0.  3. -1.  0.  0.]              [1. 2. 2. 3. 4.]   \n",
       "1                          [0. 0. 0. 0.]                 [1. 2. 3. 4.]   \n",
       "2  [14.  1.  7.  7.  8.  1. -1.  0.  0.]  [1. 1. 2. 3. 4. 4. 4. 4. 4.]   \n",
       "3              [ 4.  2.  1.  0. -2. -1.]           [1. 1. 2. 3. 3. 4.]   \n",
       "4                      [-2.  1.  1.  1.]                 [1. 2. 3. 4.]   \n",
       "\n",
       "     weight  label  \n",
       "0  0.145543      1  \n",
       "1 -0.571444      1  \n",
       "2  0.217224      0  \n",
       "3  0.146734      1  \n",
       "4  0.147967      1  \n",
       "\n",
       "[5 rows x 75 columns]"
      ]
     },
     "execution_count": 9,
     "metadata": {},
     "output_type": "execute_result"
    }
   ],
   "source": [
    "train.head()"
   ]
  },
  {
   "cell_type": "code",
   "execution_count": 15,
   "metadata": {},
   "outputs": [
    {
     "data": {
      "text/plain": [
       "Index(['Index', 'ncl[0]', 'ncl[1]', 'ncl[2]', 'ncl[3]', 'avg_cs[0]',\n",
       "       'avg_cs[1]', 'avg_cs[2]', 'avg_cs[3]', 'ndof', 'MatchedHit_TYPE[0]',\n",
       "       'MatchedHit_TYPE[1]', 'MatchedHit_TYPE[2]', 'MatchedHit_TYPE[3]',\n",
       "       'MatchedHit_X[0]', 'MatchedHit_X[1]', 'MatchedHit_X[2]',\n",
       "       'MatchedHit_X[3]', 'MatchedHit_Y[0]', 'MatchedHit_Y[1]',\n",
       "       'MatchedHit_Y[2]', 'MatchedHit_Y[3]', 'MatchedHit_Z[0]',\n",
       "       'MatchedHit_Z[1]', 'MatchedHit_Z[2]', 'MatchedHit_Z[3]',\n",
       "       'MatchedHit_DX[0]', 'MatchedHit_DX[1]', 'MatchedHit_DX[2]',\n",
       "       'MatchedHit_DX[3]', 'MatchedHit_DY[0]', 'MatchedHit_DY[1]',\n",
       "       'MatchedHit_DY[2]', 'MatchedHit_DY[3]', 'MatchedHit_DZ[0]',\n",
       "       'MatchedHit_DZ[1]', 'MatchedHit_DZ[2]', 'MatchedHit_DZ[3]',\n",
       "       'MatchedHit_T[0]', 'MatchedHit_T[1]', 'MatchedHit_T[2]',\n",
       "       'MatchedHit_T[3]', 'MatchedHit_DT[0]', 'MatchedHit_DT[1]',\n",
       "       'MatchedHit_DT[2]', 'MatchedHit_DT[3]', 'Lextra_X[0]', 'Lextra_X[1]',\n",
       "       'Lextra_X[2]', 'Lextra_X[3]', 'Lextra_Y[0]', 'Lextra_Y[1]',\n",
       "       'Lextra_Y[2]', 'Lextra_Y[3]', 'NShared', 'Mextra_DX2[0]',\n",
       "       'Mextra_DX2[1]', 'Mextra_DX2[2]', 'Mextra_DX2[3]', 'Mextra_DY2[0]',\n",
       "       'Mextra_DY2[1]', 'Mextra_DY2[2]', 'Mextra_DY2[3]', 'FOI_hits_N',\n",
       "       'FOI_hits_X', 'FOI_hits_Y', 'FOI_hits_Z', 'FOI_hits_DX', 'FOI_hits_DY',\n",
       "       'FOI_hits_DZ', 'FOI_hits_T', 'FOI_hits_DT', 'FOI_hits_S', 'weight',\n",
       "       'label'],\n",
       "      dtype='object')"
      ]
     },
     "execution_count": 15,
     "metadata": {},
     "output_type": "execute_result"
    }
   ],
   "source": [
    "train.columns"
   ]
  },
  {
   "cell_type": "code",
   "execution_count": 14,
   "metadata": {},
   "outputs": [
    {
     "data": {
      "text/plain": [
       "(12506207, 75)"
      ]
     },
     "execution_count": 14,
     "metadata": {},
     "output_type": "execute_result"
    }
   ],
   "source": [
    "train.shape"
   ]
  },
  {
   "cell_type": "code",
   "execution_count": 16,
   "metadata": {},
   "outputs": [],
   "source": [
    "N_TRAIN = int(1e5)"
   ]
  },
  {
   "cell_type": "code",
   "execution_count": 17,
   "metadata": {},
   "outputs": [],
   "source": [
    "model = xgboost.XGBClassifier(n_jobs=-1)"
   ]
  },
  {
   "cell_type": "code",
   "execution_count": 18,
   "metadata": {},
   "outputs": [
    {
     "data": {
      "text/plain": [
       "XGBClassifier(base_score=0.5, booster='gbtree', colsample_bylevel=1,\n",
       "       colsample_bytree=1, gamma=0, learning_rate=0.1, max_delta_step=0,\n",
       "       max_depth=3, min_child_weight=1, missing=None, n_estimators=100,\n",
       "       n_jobs=-1, nthread=None, objective='binary:logistic',\n",
       "       random_state=0, reg_alpha=0, reg_lambda=1, scale_pos_weight=1,\n",
       "       seed=None, silent=True, subsample=1)"
      ]
     },
     "execution_count": 18,
     "metadata": {},
     "output_type": "execute_result"
    }
   ],
   "source": [
    "model.fit(train.loc[:N_TRAIN, FEATURE_COLUMNS].values,\n",
    "          train.label.loc[:N_TRAIN],\n",
    "          sample_weight=train.weight.loc[:N_TRAIN])"
   ]
  },
  {
   "cell_type": "code",
   "execution_count": 25,
   "metadata": {},
   "outputs": [
    {
     "name": "stderr",
     "output_type": "stream",
     "text": [
      "/mnt/nkazeev/miniconda3/envs/pip-gpu/lib/python3.6/site-packages/pandas/core/series.py:842: FutureWarning: \n",
      "Passing list-likes to .loc or [] with any missing label will raise\n",
      "KeyError in the future, you can use .reindex() as an alternative.\n",
      "\n",
      "See the documentation here:\n",
      "https://pandas.pydata.org/pandas-docs/stable/indexing.html#deprecate-loc-reindex-listlike\n",
      "  return self.loc[key]\n"
     ]
    },
    {
     "data": {
      "text/plain": [
       "0.7003573329204303"
      ]
     },
     "execution_count": 25,
     "metadata": {},
     "output_type": "execute_result"
    }
   ],
   "source": [
    "utils.rejection10_sklearn(model, test.loc[:, FEATURE_COLUMNS].values, test.label, test.weight)"
   ]
  },
  {
   "cell_type": "code",
   "execution_count": 20,
   "metadata": {},
   "outputs": [],
   "source": [
    "model_no_weights = xgboost.XGBClassifier(n_jobs=-1).fit(\n",
    "    train.loc[:N_TRAIN, FEATURE_COLUMNS].values, train.label.loc[:N_TRAIN])"
   ]
  },
  {
   "cell_type": "code",
   "execution_count": 26,
   "metadata": {},
   "outputs": [
    {
     "name": "stderr",
     "output_type": "stream",
     "text": [
      "/mnt/nkazeev/miniconda3/envs/pip-gpu/lib/python3.6/site-packages/pandas/core/series.py:842: FutureWarning: \n",
      "Passing list-likes to .loc or [] with any missing label will raise\n",
      "KeyError in the future, you can use .reindex() as an alternative.\n",
      "\n",
      "See the documentation here:\n",
      "https://pandas.pydata.org/pandas-docs/stable/indexing.html#deprecate-loc-reindex-listlike\n",
      "  return self.loc[key]\n"
     ]
    },
    {
     "data": {
      "text/plain": [
       "0.6995551945963246"
      ]
     },
     "execution_count": 26,
     "metadata": {},
     "output_type": "execute_result"
    }
   ],
   "source": [
    "utils.rejection10_sklearn(model_no_weights, test.loc[:, FEATURE_COLUMNS].values, test.label, test.weight)"
   ]
  }
 ],
 "metadata": {
  "kernelspec": {
   "display_name": "Python 3",
   "language": "python",
   "name": "python3"
  },
  "language_info": {
   "codemirror_mode": {
    "name": "ipython",
    "version": 3
   },
   "file_extension": ".py",
   "mimetype": "text/x-python",
   "name": "python",
   "nbconvert_exporter": "python",
   "pygments_lexer": "ipython3",
   "version": "3.6.6"
  }
 },
 "nbformat": 4,
 "nbformat_minor": 2
}
