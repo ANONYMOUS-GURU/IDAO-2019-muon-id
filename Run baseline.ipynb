{
 "cells": [
  {
   "cell_type": "code",
   "execution_count": 1,
   "metadata": {},
   "outputs": [],
   "source": [
    "import os\n",
    "import numpy as np\n",
    "import pandas as pd\n",
    "import swifter\n",
    "from sklearn.model_selection import train_test_split\n",
    "import utils\n",
    "from itertools import repeat, chain\n",
    "import catboost"
   ]
  },
  {
   "cell_type": "code",
   "execution_count": 2,
   "metadata": {},
   "outputs": [],
   "source": [
    "DATA_PATH = \"../MuID_Run_III/IDAO\""
   ]
  },
  {
   "cell_type": "code",
   "execution_count": 3,
   "metadata": {},
   "outputs": [],
   "source": [
    "SIMPLE_FEATURE_COLUMNS = ['ncl[0]', 'ncl[1]', 'ncl[2]', 'ncl[3]', 'avg_cs[0]',\n",
    "       'avg_cs[1]', 'avg_cs[2]', 'avg_cs[3]', 'ndof', 'MatchedHit_TYPE[0]',\n",
    "       'MatchedHit_TYPE[1]', 'MatchedHit_TYPE[2]', 'MatchedHit_TYPE[3]',\n",
    "       'MatchedHit_X[0]', 'MatchedHit_X[1]', 'MatchedHit_X[2]',\n",
    "       'MatchedHit_X[3]', 'MatchedHit_Y[0]', 'MatchedHit_Y[1]',\n",
    "       'MatchedHit_Y[2]', 'MatchedHit_Y[3]', 'MatchedHit_Z[0]',\n",
    "       'MatchedHit_Z[1]', 'MatchedHit_Z[2]', 'MatchedHit_Z[3]',\n",
    "       'MatchedHit_DX[0]', 'MatchedHit_DX[1]', 'MatchedHit_DX[2]',\n",
    "       'MatchedHit_DX[3]', 'MatchedHit_DY[0]', 'MatchedHit_DY[1]',\n",
    "       'MatchedHit_DY[2]', 'MatchedHit_DY[3]', 'MatchedHit_DZ[0]',\n",
    "       'MatchedHit_DZ[1]', 'MatchedHit_DZ[2]', 'MatchedHit_DZ[3]',\n",
    "       'MatchedHit_T[0]', 'MatchedHit_T[1]', 'MatchedHit_T[2]',\n",
    "       'MatchedHit_T[3]', 'MatchedHit_DT[0]', 'MatchedHit_DT[1]',\n",
    "       'MatchedHit_DT[2]', 'MatchedHit_DT[3]', 'Lextra_X[0]', 'Lextra_X[1]',\n",
    "       'Lextra_X[2]', 'Lextra_X[3]', 'Lextra_Y[0]', 'Lextra_Y[1]',\n",
    "       'Lextra_Y[2]', 'Lextra_Y[3]', 'NShared', 'Mextra_DX2[0]',\n",
    "       'Mextra_DX2[1]', 'Mextra_DX2[2]', 'Mextra_DX2[3]', 'Mextra_DY2[0]',\n",
    "       'Mextra_DY2[1]', 'Mextra_DY2[2]', 'Mextra_DY2[3]', 'FOI_hits_N', 'PT', 'P']"
   ]
  },
  {
   "cell_type": "code",
   "execution_count": 4,
   "metadata": {},
   "outputs": [],
   "source": [
    "FOI_COLS = [\"FOI_hits_X\", \"FOI_hits_Y\", \"FOI_hits_T\", \"FOI_hits_Z\", \"FOI_hits_DX\", \"FOI_hits_DY\", \"FOI_hits_S\"]"
   ]
  },
  {
   "cell_type": "code",
   "execution_count": 5,
   "metadata": {},
   "outputs": [],
   "source": [
    "def parse_array(line, dtype=np.float32):\n",
    "    return np.fromstring(line[1:-1], sep=\" \", dtype=dtype)"
   ]
  },
  {
   "cell_type": "code",
   "execution_count": 6,
   "metadata": {},
   "outputs": [],
   "source": [
    "converters = dict(zip(FOI_COLS, repeat(parse_array)))\n",
    "types = dict(zip(SIMPLE_FEATURE_COLUMNS, repeat(np.float32)))"
   ]
  },
  {
   "cell_type": "code",
   "execution_count": 7,
   "metadata": {},
   "outputs": [
    {
     "name": "stderr",
     "output_type": "stream",
     "text": [
      "Pandas Apply: 100%|██████████| 726095/726095 [10:16<00:00, 1177.87it/s]\n"
     ]
    }
   ],
   "source": [
    "test = pd.read_csv(os.path.join(DATA_PATH, \"test_public.csv.gz\"), index_col=\"id\", converters=converters,\n",
    "                   dtype=types, usecols=SIMPLE_FEATURE_COLUMNS+FOI_COLS+[\"id\"])\n",
    "EMPTY = 1000\n",
    "N_STATIONS = 4\n",
    "FEATURES_PER_STATION = 6\n",
    "N_FOI_FEATURES = N_STATIONS*FEATURES_PER_STATION\n",
    "def find_closest_hit_per_station(row, objectify=False):\n",
    "    result = np.empty(N_FOI_FEATURES, dtype=np.float32)\n",
    "    closest_x_per_station = result[0:4]\n",
    "    closest_y_per_station = result[4:8]\n",
    "    closest_T_per_station = result[8:12]\n",
    "    closest_z_per_station = result[12:16]\n",
    "    closest_dx_per_station = result[16:20]\n",
    "    closest_dy_per_station = result[20:24]\n",
    "    \n",
    "    for station in range(4):\n",
    "        hits = (row[\"FOI_hits_S\"] == station)\n",
    "        if not hits.any():\n",
    "            closest_x_per_station[station] = EMPTY\n",
    "            closest_y_per_station[station] = EMPTY\n",
    "            closest_T_per_station[station] = EMPTY\n",
    "            closest_z_per_station[station] = EMPTY\n",
    "            closest_dx_per_station[station] = EMPTY\n",
    "            closest_dy_per_station[station] = EMPTY\n",
    "        else:\n",
    "            x_distances_2 = (row[\"Lextra_X[%i]\" % station] - row[\"FOI_hits_X\"][hits])**2\n",
    "            y_distances_2 = (row[\"Lextra_Y[%i]\" % station] - row[\"FOI_hits_Y\"][hits])**2\n",
    "            distances_2 = x_distances_2 + y_distances_2\n",
    "            closest_hit = np.argmin(distances_2)\n",
    "            closest_x_per_station[station] = x_distances_2[closest_hit]\n",
    "            closest_y_per_station[station] = y_distances_2[closest_hit]\n",
    "            closest_T_per_station[station] = row[\"FOI_hits_T\"][hits][closest_hit]\n",
    "            closest_z_per_station[station] = row[\"FOI_hits_Z\"][hits][closest_hit]\n",
    "            closest_dx_per_station[station] = row[\"FOI_hits_DX\"][hits][closest_hit]\n",
    "            closest_dy_per_station[station] = row[\"FOI_hits_DY\"][hits][closest_hit]\n",
    "    return result\n",
    "closest_hits_features = test.swifter.apply(find_closest_hit_per_station, result_type=\"expand\", axis=1)\n",
    "test_concat = pd.concat([test.loc[:, SIMPLE_FEATURE_COLUMNS], closest_hits_features], axis=1)"
   ]
  },
  {
   "cell_type": "code",
   "execution_count": 8,
   "metadata": {},
   "outputs": [],
   "source": [
    "model = catboost.CatBoostClassifier().load_model(\"track_2_model.cbm\")\n",
    "predictions = model.predict(test_concat.values, prediction_type=\"RawFormulaVal\", thread_count=1)\n",
    "prediction_pd = pd.DataFrame(data={\"prediction\": predictions}, index=test.index)\n",
    "prediction_pd.to_csv(\"submission.csv\", index_label=\"id\")"
   ]
  }
 ],
 "metadata": {
  "kernelspec": {
   "display_name": "Python 3",
   "language": "python",
   "name": "python3"
  },
  "language_info": {
   "codemirror_mode": {
    "name": "ipython",
    "version": 3
   },
   "file_extension": ".py",
   "mimetype": "text/x-python",
   "name": "python",
   "nbconvert_exporter": "python",
   "pygments_lexer": "ipython3",
   "version": "3.6.6"
  }
 },
 "nbformat": 4,
 "nbformat_minor": 2
}
